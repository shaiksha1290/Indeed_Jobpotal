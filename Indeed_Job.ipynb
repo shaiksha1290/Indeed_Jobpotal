{
 "cells": [
  {
   "cell_type": "code",
   "execution_count": 159,
   "metadata": {
    "collapsed": false
   },
   "outputs": [],
   "source": [
    "import xml.dom.minidom\n",
    "import urllib\n",
    "\n",
    "def getText(nodelist):\n",
    "    rc = []\n",
    "    for node in nodelist:\n",
    "        if node.nodeType == node.TEXT_NODE:\n",
    "            rc.append(node.data)\n",
    "    return ''.join(rc)\n",
    "\n",
    "\n",
    "search = xml.dom.minidom.parse(open(r\"C:\\Users\\shaik\\PycharmProjects\\indeed\\search_criteria.xml\"))\n",
    "\n",
    "search_string = getText(search.getElementsByTagName(\"query\")[0].childNodes)\n",
    "search_location = getText(search.getElementsByTagName(\"location\")[0].childNodes)\n",
    "publisher_key = getText(search.getElementsByTagName(\"key\")[0].childNodes)\n",
    "\n",
    "out_final = {}\n",
    "\n",
    "for i in range(0,39) :\n",
    "    req = \"http://api.indeed.com/ads/apisearch?publisher=\"+publisher_key+\"&q=\"+search_string+\"&l=\"+search_location+\"&sort=&radius=&st=&jt=&start=\"+str(1+i*25)+\"&limit=1000&fromage=&filter=&latlong=1&co=us&chnl=&userip=1.2.3.4&useragent=Mozilla/%2F4.0%28Firefox%29&v=2\"\n",
    "\n",
    "    result = urllib.urlopen(req).read()\n",
    "    #result = xml.dom.minidom.parse(open(r\"C:\\Users\\shaik\\PycharmProjects\\indeed\\apisearch.xml\"))\n",
    "    result = xml.dom.minidom.parseString(result)\n",
    "\n",
    "    def getNodeName (data) :\n",
    "        nodes = []\n",
    "        for nd in data[0].childNodes :\n",
    "            if nd.nodeType == nd.ELEMENT_NODE :\n",
    "                nodes.append(nd.nodeName)\n",
    "        return nodes\n",
    "\n",
    "\n",
    "    total_res = result.getElementsByTagName(\"result\")\n",
    "    nodes = getNodeName(total_res)\n",
    "\n",
    "    final_result = {}\n",
    "    for count in range(len(total_res)) :\n",
    "        res_count = \"result_\"+str(count+i*25)\n",
    "        final_result[res_count] = {}\n",
    "        for each_node in nodes :\n",
    "            try :\n",
    "                final_result[res_count][each_node] = getText(total_res[count].getElementsByTagName(each_node)[0].childNodes)\n",
    "            except :\n",
    "                final_result[res_count] = {}\n",
    "                pass\n",
    "            \n",
    "    \n",
    "\n",
    "    out_final.update(final_result)\n",
    "\n",
    "\n"
   ]
  },
  {
   "cell_type": "code",
   "execution_count": 160,
   "metadata": {
    "collapsed": false
   },
   "outputs": [],
   "source": [
    "import pandas as pd"
   ]
  },
  {
   "cell_type": "code",
   "execution_count": 161,
   "metadata": {
    "collapsed": true
   },
   "outputs": [],
   "source": [
    "df = pd.DataFrame(out_final)"
   ]
  },
  {
   "cell_type": "code",
   "execution_count": 162,
   "metadata": {
    "collapsed": false
   },
   "outputs": [],
   "source": [
    "lat = list(df.loc['latitude'])\n",
    "lon = list(df.loc['longitude']) \n",
    "lat = [float(i) for i in lat]\n",
    "lon = [float(i) for i in lon]"
   ]
  },
  {
   "cell_type": "code",
   "execution_count": 163,
   "metadata": {
    "collapsed": true
   },
   "outputs": [],
   "source": [
    "from mpl_toolkits.basemap import Basemap\n",
    "import matplotlib.pyplot as plt"
   ]
  },
  {
   "cell_type": "code",
   "execution_count": 164,
   "metadata": {
    "collapsed": true
   },
   "outputs": [],
   "source": [
    "map = Basemap(projection=\"mill\",llcrnrlat = -60,urcrnrlat=90,llcrnrlon=-180,urcrnrlon=180,resolution=\"c\")"
   ]
  },
  {
   "cell_type": "code",
   "execution_count": 165,
   "metadata": {
    "collapsed": false
   },
   "outputs": [
    {
     "data": {
      "text/plain": [
       "<matplotlib.patches.Rectangle at 0x14d2b8d0>"
      ]
     },
     "execution_count": 165,
     "metadata": {},
     "output_type": "execute_result"
    }
   ],
   "source": [
    "map.drawcoastlines()\n",
    "map.drawcountries()\n",
    "map.fillcontinents(color=\"#04BAE3\")\n",
    "map.drawmapboundary()\n",
    "#map.bluemarble()"
   ]
  },
  {
   "cell_type": "code",
   "execution_count": 166,
   "metadata": {
    "collapsed": false
   },
   "outputs": [],
   "source": [
    "x,y = map(lon,lat)"
   ]
  },
  {
   "cell_type": "code",
   "execution_count": 167,
   "metadata": {
    "collapsed": false
   },
   "outputs": [
    {
     "data": {
      "text/plain": [
       "[<matplotlib.lines.Line2D at 0x15a32b00>]"
      ]
     },
     "execution_count": 167,
     "metadata": {},
     "output_type": "execute_result"
    }
   ],
   "source": [
    "map.plot(x,y,'ro')"
   ]
  },
  {
   "cell_type": "code",
   "execution_count": 168,
   "metadata": {
    "collapsed": true
   },
   "outputs": [],
   "source": [
    "plt.show()"
   ]
  },
  {
   "cell_type": "code",
   "execution_count": null,
   "metadata": {
    "collapsed": true
   },
   "outputs": [],
   "source": []
  }
 ],
 "metadata": {
  "kernelspec": {
   "display_name": "Python 2",
   "language": "python",
   "name": "python2"
  },
  "language_info": {
   "codemirror_mode": {
    "name": "ipython",
    "version": 2
   },
   "file_extension": ".py",
   "mimetype": "text/x-python",
   "name": "python",
   "nbconvert_exporter": "python",
   "pygments_lexer": "ipython2",
   "version": "2.7.9"
  }
 },
 "nbformat": 4,
 "nbformat_minor": 0
}
